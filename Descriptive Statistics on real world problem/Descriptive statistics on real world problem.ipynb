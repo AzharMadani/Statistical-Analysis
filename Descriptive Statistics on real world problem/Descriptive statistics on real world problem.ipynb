{
 "cells": [
  {
   "cell_type": "markdown",
   "id": "fa61c9cf",
   "metadata": {},
   "source": [
    "## STATS Mini Project"
   ]
  },
  {
   "cell_type": "markdown",
   "id": "50debcdc",
   "metadata": {},
   "source": [
    "### 1. Perform the following statistical analysis on the fifa world cup dataset. The dataset consists of player information, which includes height; weight overall rating, potential etc. Data Cleaning and basic EDA process needs to be performed.\n",
    "a) Assuming age as population, perform the central limit theorem with sample size of 200. Find the standard error and the mean of sampling distribution. Compare the results with population mean and standard deviation. Explain in non-technical terms why the estimated standard error of a sample mean tends to decrease with an increase in sample size\n",
    "\n",
    "b) Is there any evidence that the players overall rating is greater than 80?\n",
    "\n",
    "c) Perform the statistical test to identify whether preferred foot has any impact on potential. Also, perform the graphical analysis.\n",
    "\n",
    "d) Perform the statistical test to identify the relation between the overall rating and potential. [Assume both are continuous data points].\n",
    "\n",
    "e) Does skill move have any effect in overall rating? Perform the graphical analysis and the statistical analysis.\n",
    "\n",
    "Note:\n",
    "\n",
    "1) Perform all the Statistical analysis with 5% (Significance level).\n",
    "\n",
    "2) Assume all the features are normally distributed and have equal variance."
   ]
  },
  {
   "cell_type": "code",
   "execution_count": 62,
   "id": "a5a7bc09",
   "metadata": {},
   "outputs": [],
   "source": [
    "import numpy as np\n",
    "import pandas as pd\n",
    "import warnings\n",
    "warnings.filterwarnings('ignore')\n",
    "from scipy.stats import stats\n",
    "import scipy.stats as stats\n",
    "import statsmodels.api as sm\n",
    "from statsmodels.formula.api import ols\n",
    "from statsmodels.stats.anova import anova_lm\n",
    "from scipy.stats import chi2_contingency\n",
    "from scipy.stats import chi2\n",
    "from scipy.stats import chisquare\n",
    "import matplotlib.pyplot as plt\n",
    "import seaborn as sns"
   ]
  },
  {
   "cell_type": "code",
   "execution_count": 60,
   "id": "a41de97d",
   "metadata": {},
   "outputs": [
    {
     "data": {
      "text/html": [
       "<div>\n",
       "<style scoped>\n",
       "    .dataframe tbody tr th:only-of-type {\n",
       "        vertical-align: middle;\n",
       "    }\n",
       "\n",
       "    .dataframe tbody tr th {\n",
       "        vertical-align: top;\n",
       "    }\n",
       "\n",
       "    .dataframe thead th {\n",
       "        text-align: right;\n",
       "    }\n",
       "</style>\n",
       "<table border=\"1\" class=\"dataframe\">\n",
       "  <thead>\n",
       "    <tr style=\"text-align: right;\">\n",
       "      <th></th>\n",
       "      <th>Name</th>\n",
       "      <th>Age</th>\n",
       "      <th>Nationality</th>\n",
       "      <th>Overall_rating</th>\n",
       "      <th>Potential</th>\n",
       "      <th>Club</th>\n",
       "      <th>Preferred Foot</th>\n",
       "      <th>International Reputation</th>\n",
       "      <th>Weak Foot</th>\n",
       "      <th>Skill Moves</th>\n",
       "      <th>Work Rate</th>\n",
       "      <th>Position</th>\n",
       "      <th>Jersey Number</th>\n",
       "      <th>Height</th>\n",
       "      <th>Weight</th>\n",
       "    </tr>\n",
       "  </thead>\n",
       "  <tbody>\n",
       "    <tr>\n",
       "      <th>0</th>\n",
       "      <td>L. Messi</td>\n",
       "      <td>31</td>\n",
       "      <td>Argentina</td>\n",
       "      <td>94</td>\n",
       "      <td>94</td>\n",
       "      <td>FC Barcelona</td>\n",
       "      <td>Left</td>\n",
       "      <td>5</td>\n",
       "      <td>4</td>\n",
       "      <td>4</td>\n",
       "      <td>Medium/ Medium</td>\n",
       "      <td>RF</td>\n",
       "      <td>10</td>\n",
       "      <td>5.583333</td>\n",
       "      <td>159</td>\n",
       "    </tr>\n",
       "    <tr>\n",
       "      <th>1</th>\n",
       "      <td>Cristiano Ronaldo</td>\n",
       "      <td>33</td>\n",
       "      <td>Portugal</td>\n",
       "      <td>94</td>\n",
       "      <td>94</td>\n",
       "      <td>Juventus</td>\n",
       "      <td>Right</td>\n",
       "      <td>5</td>\n",
       "      <td>4</td>\n",
       "      <td>5</td>\n",
       "      <td>High/ Low</td>\n",
       "      <td>ST</td>\n",
       "      <td>7</td>\n",
       "      <td>6.166667</td>\n",
       "      <td>183</td>\n",
       "    </tr>\n",
       "    <tr>\n",
       "      <th>2</th>\n",
       "      <td>Neymar Jr</td>\n",
       "      <td>26</td>\n",
       "      <td>Brazil</td>\n",
       "      <td>92</td>\n",
       "      <td>93</td>\n",
       "      <td>Paris Saint-Germain</td>\n",
       "      <td>Right</td>\n",
       "      <td>5</td>\n",
       "      <td>5</td>\n",
       "      <td>5</td>\n",
       "      <td>High/ Medium</td>\n",
       "      <td>LW</td>\n",
       "      <td>10</td>\n",
       "      <td>5.750000</td>\n",
       "      <td>150</td>\n",
       "    </tr>\n",
       "    <tr>\n",
       "      <th>3</th>\n",
       "      <td>De Gea</td>\n",
       "      <td>27</td>\n",
       "      <td>Spain</td>\n",
       "      <td>91</td>\n",
       "      <td>93</td>\n",
       "      <td>Manchester United</td>\n",
       "      <td>Right</td>\n",
       "      <td>4</td>\n",
       "      <td>3</td>\n",
       "      <td>1</td>\n",
       "      <td>Medium/ Medium</td>\n",
       "      <td>GK</td>\n",
       "      <td>1</td>\n",
       "      <td>6.333333</td>\n",
       "      <td>168</td>\n",
       "    </tr>\n",
       "    <tr>\n",
       "      <th>4</th>\n",
       "      <td>K. De Bruyne</td>\n",
       "      <td>27</td>\n",
       "      <td>Belgium</td>\n",
       "      <td>91</td>\n",
       "      <td>92</td>\n",
       "      <td>Manchester City</td>\n",
       "      <td>Right</td>\n",
       "      <td>4</td>\n",
       "      <td>5</td>\n",
       "      <td>4</td>\n",
       "      <td>High/ High</td>\n",
       "      <td>RCM</td>\n",
       "      <td>7</td>\n",
       "      <td>5.083333</td>\n",
       "      <td>154</td>\n",
       "    </tr>\n",
       "  </tbody>\n",
       "</table>\n",
       "</div>"
      ],
      "text/plain": [
       "                Name  Age Nationality  Overall_rating  Potential  \\\n",
       "0           L. Messi   31   Argentina              94         94   \n",
       "1  Cristiano Ronaldo   33    Portugal              94         94   \n",
       "2          Neymar Jr   26      Brazil              92         93   \n",
       "3             De Gea   27       Spain              91         93   \n",
       "4       K. De Bruyne   27     Belgium              91         92   \n",
       "\n",
       "                  Club Preferred Foot  International Reputation  Weak Foot  \\\n",
       "0         FC Barcelona           Left                         5          4   \n",
       "1             Juventus          Right                         5          4   \n",
       "2  Paris Saint-Germain          Right                         5          5   \n",
       "3    Manchester United          Right                         4          3   \n",
       "4      Manchester City          Right                         4          5   \n",
       "\n",
       "   Skill Moves       Work Rate Position  Jersey Number    Height  Weight  \n",
       "0            4  Medium/ Medium       RF             10  5.583333     159  \n",
       "1            5       High/ Low       ST              7  6.166667     183  \n",
       "2            5    High/ Medium       LW             10  5.750000     150  \n",
       "3            1  Medium/ Medium       GK              1  6.333333     168  \n",
       "4            4      High/ High      RCM              7  5.083333     154  "
      ]
     },
     "execution_count": 60,
     "metadata": {},
     "output_type": "execute_result"
    }
   ],
   "source": [
    "df1 = pd.read_csv('fifa_stats.csv')\n",
    "df1.head()"
   ]
  },
  {
   "cell_type": "code",
   "execution_count": 5,
   "id": "6a64c676",
   "metadata": {},
   "outputs": [
    {
     "data": {
      "text/plain": [
       "(2000, 15)"
      ]
     },
     "execution_count": 5,
     "metadata": {},
     "output_type": "execute_result"
    }
   ],
   "source": [
    "df1.shape"
   ]
  },
  {
   "cell_type": "code",
   "execution_count": 6,
   "id": "a38f1af1",
   "metadata": {},
   "outputs": [
    {
     "data": {
      "text/plain": [
       "Name                         0\n",
       "Age                          0\n",
       "Nationality                  0\n",
       "Overall_rating               0\n",
       "Potential                    0\n",
       "Club                        19\n",
       "Preferred Foot               0\n",
       "International Reputation     0\n",
       "Weak Foot                    0\n",
       "Skill Moves                  0\n",
       "Work Rate                    0\n",
       "Position                     0\n",
       "Jersey Number                0\n",
       "Height                       0\n",
       "Weight                       0\n",
       "dtype: int64"
      ]
     },
     "execution_count": 6,
     "metadata": {},
     "output_type": "execute_result"
    }
   ],
   "source": [
    "df1.isnull().sum()"
   ]
  },
  {
   "cell_type": "code",
   "execution_count": 8,
   "id": "4d6688a7",
   "metadata": {},
   "outputs": [
    {
     "data": {
      "text/plain": [
       "0.95"
      ]
     },
     "execution_count": 8,
     "metadata": {},
     "output_type": "execute_result"
    }
   ],
   "source": [
    "df1['Club'].isnull().sum()/len(df1)*100"
   ]
  },
  {
   "cell_type": "code",
   "execution_count": 9,
   "id": "e41a5602",
   "metadata": {},
   "outputs": [],
   "source": [
    "df1.dropna(subset=['Club'],inplace=True)"
   ]
  },
  {
   "cell_type": "code",
   "execution_count": 12,
   "id": "042e7220",
   "metadata": {},
   "outputs": [
    {
     "data": {
      "text/plain": [
       "0"
      ]
     },
     "execution_count": 12,
     "metadata": {},
     "output_type": "execute_result"
    }
   ],
   "source": [
    "df1.isnull().sum().sum()"
   ]
  },
  {
   "cell_type": "markdown",
   "id": "46eae2cb",
   "metadata": {},
   "source": [
    "### a)\tAssuming age as population, perform the central limit theorem with sample size of 200. Find the standard error and the mean of sampling distribution. Compare the results with population mean and standard deviation. Explain in non-technical terms why the estimated standard error of a sample mean tends to decrease with an increase in sample size"
   ]
  },
  {
   "cell_type": "code",
   "execution_count": 15,
   "id": "ced4e0b6",
   "metadata": {},
   "outputs": [
    {
     "name": "stdout",
     "output_type": "stream",
     "text": [
      "Population mean 27.215547703180214\n",
      "standard deviation 3.8525185996930396\n",
      "standard error 0.27241420264902505\n",
      "sample mean 27.749479540372302\n",
      "Confidence interval for 95%\n",
      "(27.198465486266123, 27.232629920094304)\n"
     ]
    }
   ],
   "source": [
    "n = 200\n",
    "mu = df1['Age'].mean()\n",
    "print('Population mean',mu)\n",
    "s = df1['Age'].std()\n",
    "print('standard deviation',s)\n",
    "se = s/np.sqrt(n)\n",
    "print('standard error',se)\n",
    "xbar = mu+1.96*(se)\n",
    "print('sample mean',xbar)\n",
    "print('Confidence interval for 95%')\n",
    "print(stats.norm.interval(0.05,loc=mu,scale=se))"
   ]
  },
  {
   "cell_type": "markdown",
   "id": "fcfa597e",
   "metadata": {},
   "source": [
    "### b) Is there any evidence that the players overall rating is greater than 80?"
   ]
  },
  {
   "cell_type": "code",
   "execution_count": 61,
   "id": "06a0977d",
   "metadata": {},
   "outputs": [
    {
     "data": {
      "text/html": [
       "<div>\n",
       "<style scoped>\n",
       "    .dataframe tbody tr th:only-of-type {\n",
       "        vertical-align: middle;\n",
       "    }\n",
       "\n",
       "    .dataframe tbody tr th {\n",
       "        vertical-align: top;\n",
       "    }\n",
       "\n",
       "    .dataframe thead th {\n",
       "        text-align: right;\n",
       "    }\n",
       "</style>\n",
       "<table border=\"1\" class=\"dataframe\">\n",
       "  <thead>\n",
       "    <tr style=\"text-align: right;\">\n",
       "      <th></th>\n",
       "      <th>Name</th>\n",
       "      <th>Age</th>\n",
       "      <th>Nationality</th>\n",
       "      <th>Overall_rating</th>\n",
       "      <th>Potential</th>\n",
       "      <th>Club</th>\n",
       "      <th>Preferred Foot</th>\n",
       "      <th>International Reputation</th>\n",
       "      <th>Weak Foot</th>\n",
       "      <th>Skill Moves</th>\n",
       "      <th>Work Rate</th>\n",
       "      <th>Position</th>\n",
       "      <th>Jersey Number</th>\n",
       "      <th>Height</th>\n",
       "      <th>Weight</th>\n",
       "    </tr>\n",
       "  </thead>\n",
       "  <tbody>\n",
       "    <tr>\n",
       "      <th>0</th>\n",
       "      <td>L. Messi</td>\n",
       "      <td>31</td>\n",
       "      <td>Argentina</td>\n",
       "      <td>94</td>\n",
       "      <td>94</td>\n",
       "      <td>FC Barcelona</td>\n",
       "      <td>Left</td>\n",
       "      <td>5</td>\n",
       "      <td>4</td>\n",
       "      <td>4</td>\n",
       "      <td>Medium/ Medium</td>\n",
       "      <td>RF</td>\n",
       "      <td>10</td>\n",
       "      <td>5.583333</td>\n",
       "      <td>159</td>\n",
       "    </tr>\n",
       "    <tr>\n",
       "      <th>1</th>\n",
       "      <td>Cristiano Ronaldo</td>\n",
       "      <td>33</td>\n",
       "      <td>Portugal</td>\n",
       "      <td>94</td>\n",
       "      <td>94</td>\n",
       "      <td>Juventus</td>\n",
       "      <td>Right</td>\n",
       "      <td>5</td>\n",
       "      <td>4</td>\n",
       "      <td>5</td>\n",
       "      <td>High/ Low</td>\n",
       "      <td>ST</td>\n",
       "      <td>7</td>\n",
       "      <td>6.166667</td>\n",
       "      <td>183</td>\n",
       "    </tr>\n",
       "    <tr>\n",
       "      <th>2</th>\n",
       "      <td>Neymar Jr</td>\n",
       "      <td>26</td>\n",
       "      <td>Brazil</td>\n",
       "      <td>92</td>\n",
       "      <td>93</td>\n",
       "      <td>Paris Saint-Germain</td>\n",
       "      <td>Right</td>\n",
       "      <td>5</td>\n",
       "      <td>5</td>\n",
       "      <td>5</td>\n",
       "      <td>High/ Medium</td>\n",
       "      <td>LW</td>\n",
       "      <td>10</td>\n",
       "      <td>5.750000</td>\n",
       "      <td>150</td>\n",
       "    </tr>\n",
       "    <tr>\n",
       "      <th>3</th>\n",
       "      <td>De Gea</td>\n",
       "      <td>27</td>\n",
       "      <td>Spain</td>\n",
       "      <td>91</td>\n",
       "      <td>93</td>\n",
       "      <td>Manchester United</td>\n",
       "      <td>Right</td>\n",
       "      <td>4</td>\n",
       "      <td>3</td>\n",
       "      <td>1</td>\n",
       "      <td>Medium/ Medium</td>\n",
       "      <td>GK</td>\n",
       "      <td>1</td>\n",
       "      <td>6.333333</td>\n",
       "      <td>168</td>\n",
       "    </tr>\n",
       "    <tr>\n",
       "      <th>4</th>\n",
       "      <td>K. De Bruyne</td>\n",
       "      <td>27</td>\n",
       "      <td>Belgium</td>\n",
       "      <td>91</td>\n",
       "      <td>92</td>\n",
       "      <td>Manchester City</td>\n",
       "      <td>Right</td>\n",
       "      <td>4</td>\n",
       "      <td>5</td>\n",
       "      <td>4</td>\n",
       "      <td>High/ High</td>\n",
       "      <td>RCM</td>\n",
       "      <td>7</td>\n",
       "      <td>5.083333</td>\n",
       "      <td>154</td>\n",
       "    </tr>\n",
       "  </tbody>\n",
       "</table>\n",
       "</div>"
      ],
      "text/plain": [
       "                Name  Age Nationality  Overall_rating  Potential  \\\n",
       "0           L. Messi   31   Argentina              94         94   \n",
       "1  Cristiano Ronaldo   33    Portugal              94         94   \n",
       "2          Neymar Jr   26      Brazil              92         93   \n",
       "3             De Gea   27       Spain              91         93   \n",
       "4       K. De Bruyne   27     Belgium              91         92   \n",
       "\n",
       "                  Club Preferred Foot  International Reputation  Weak Foot  \\\n",
       "0         FC Barcelona           Left                         5          4   \n",
       "1             Juventus          Right                         5          4   \n",
       "2  Paris Saint-Germain          Right                         5          5   \n",
       "3    Manchester United          Right                         4          3   \n",
       "4      Manchester City          Right                         4          5   \n",
       "\n",
       "   Skill Moves       Work Rate Position  Jersey Number    Height  Weight  \n",
       "0            4  Medium/ Medium       RF             10  5.583333     159  \n",
       "1            5       High/ Low       ST              7  6.166667     183  \n",
       "2            5    High/ Medium       LW             10  5.750000     150  \n",
       "3            1  Medium/ Medium       GK              1  6.333333     168  \n",
       "4            4      High/ High      RCM              7  5.083333     154  "
      ]
     },
     "execution_count": 61,
     "metadata": {},
     "output_type": "execute_result"
    }
   ],
   "source": [
    "df1.head()"
   ]
  },
  {
   "cell_type": "code",
   "execution_count": 63,
   "id": "555bdb2f",
   "metadata": {},
   "outputs": [
    {
     "name": "stdout",
     "output_type": "stream",
     "text": [
      "Xbar 78.197\n",
      "Critical value\n",
      "78.07614192540507\n",
      "P-value\n",
      "0.8289438736915182\n"
     ]
    }
   ],
   "source": [
    "r1 = df1['Overall_rating']\n",
    "n = len(df1['Overall_rating'])\n",
    "mu = 80\n",
    "xbar = (df1['Overall_rating']).mean()\n",
    "print('Xbar',xbar)\n",
    "sd = (df1['Overall_rating']).std()\n",
    "se = sd/np.sqrt(n)\n",
    "\n",
    "print('Critical value')\n",
    "print(stats.norm.isf(0.95,loc=xbar,scale=se))\n",
    "print('P-value')\n",
    "print(stats.norm.cdf(0.95))"
   ]
  },
  {
   "cell_type": "markdown",
   "id": "30a5a5eb",
   "metadata": {},
   "source": [
    "### c)\tPerform the statistical test to identify whether preferred foot has any impact on potential. Also, perform the graphical analysis."
   ]
  },
  {
   "cell_type": "code",
   "execution_count": 16,
   "id": "9e7ccc16",
   "metadata": {},
   "outputs": [
    {
     "data": {
      "text/plain": [
       "Right    1519\n",
       "Left      462\n",
       "Name: Preferred Foot, dtype: int64"
      ]
     },
     "execution_count": 16,
     "metadata": {},
     "output_type": "execute_result"
    }
   ],
   "source": [
    "df1['Preferred Foot'].value_counts()"
   ]
  },
  {
   "cell_type": "code",
   "execution_count": 17,
   "id": "862a3d3f",
   "metadata": {},
   "outputs": [
    {
     "data": {
      "text/plain": [
       "array([94, 93, 92, 91, 90, 89, 95, 88, 87, 86, 85, 84, 83, 82, 81, 80, 79,\n",
       "       78, 77, 76, 75], dtype=int64)"
      ]
     },
     "execution_count": 17,
     "metadata": {},
     "output_type": "execute_result"
    }
   ],
   "source": [
    "df1['Potential'].unique()"
   ]
  },
  {
   "cell_type": "code",
   "execution_count": 18,
   "id": "59c14da3",
   "metadata": {},
   "outputs": [
    {
     "name": "stdout",
     "output_type": "stream",
     "text": [
      "ShapiroResult(statistic=0.9373535513877869, pvalue=8.425229710834448e-25)\n",
      "ShapiroResult(statistic=0.9437844157218933, pvalue=3.187897645515192e-12)\n",
      "LeveneResult(statistic=1.5665635192734586, pvalue=0.2108546965781491)\n",
      "The P-value is less than 5% for shapiro test as we can conclude that the data is not normal\n",
      "F_onewayResult(statistic=2.6621845772621833, pvalue=0.10291861885209323)\n",
      "The p-value is more than 5%,Hence Failed to Reject Null and conclude that the preferred foot has impact on potential\n"
     ]
    },
    {
     "data": {
      "image/png": "[encoded data removed]",
      "text/plain": [
       "<Figure size 432x288 with 1 Axes>"
      ]
     },
     "metadata": {
      "needs_background": "light"
     },
     "output_type": "display_data"
    }
   ],
   "source": [
    "x1 = df1[df1['Preferred Foot'] == 'Right']['Potential']\n",
    "x2 = df1[df1['Preferred Foot'] == 'Left']['Potential']\n",
    "sns.distplot(x1)\n",
    "sns.distplot(x2)\n",
    "print(stats.shapiro(x1))\n",
    "print(stats.shapiro(x2))\n",
    "print(stats.levene(x1,x2))\n",
    "print('The P-value is less than 5% for shapiro test as we can conclude that the data is not normal')\n",
    "print(stats.f_oneway(x1,x2))\n",
    "print('The p-value is more than 5%,Hence Failed to Reject Null and conclude that the preferred foot has impact on potential')"
   ]
  },
  {
   "cell_type": "markdown",
   "id": "d4dd6d77",
   "metadata": {},
   "source": [
    "### d)\tPerform the statistical test to identify the relation between the overall rating and potential. [Assume both are continuous data points]."
   ]
  },
  {
   "cell_type": "code",
   "execution_count": 21,
   "id": "40c3695f",
   "metadata": {},
   "outputs": [
    {
     "name": "stdout",
     "output_type": "stream",
     "text": [
      "Zscore -17.86119755089135\n",
      "Critical value\n",
      "1.6448536269514729\n",
      "P-value\n",
      "1.1825499530305208e-71\n",
      "The p-value is less than 5%,Hence Reject Null and conclude that there is relation between overall rating and potential\n"
     ]
    }
   ],
   "source": [
    "x1 = df1['Overall_rating'].mean()\n",
    "x2 = df1['Potential'].mean()\n",
    "s1 = df1['Overall_rating'].std()\n",
    "s2 = df1['Potential'].std()\n",
    "n1 = len(df1['Overall_rating'])\n",
    "n2 = len(df1['Potential'])\n",
    "zscore = (x1-x2)/np.sqrt((s1**2/n1)+(s2**2/n2))\n",
    "print('Zscore',zscore)\n",
    "print('Critical value')\n",
    "print(stats.norm.isf(0.05))\n",
    "print('P-value')\n",
    "print(stats.norm.cdf(zscore))\n",
    "print('The p-value is less than 5%,Hence Reject Null and conclude that there is relation between overall rating and potential')"
   ]
  },
  {
   "cell_type": "markdown",
   "id": "f4680d0f",
   "metadata": {},
   "source": [
    "### e)\tDoes skill move have any effect in overall rating? Perform the graphical analysis and the statistical analysis."
   ]
  },
  {
   "cell_type": "code",
   "execution_count": 65,
   "id": "86c8f4bc",
   "metadata": {},
   "outputs": [
    {
     "name": "stdout",
     "output_type": "stream",
     "text": [
      "Zscore -983.0720466250026\n",
      "Critical value\n",
      "1.6448536269514729\n",
      "P-value\n",
      "0.0\n"
     ]
    },
    {
     "data": {
      "image/png": "[encoded data removed]",
      "text/plain": [
       "<Figure size 432x288 with 1 Axes>"
      ]
     },
     "metadata": {
      "needs_background": "light"
     },
     "output_type": "display_data"
    }
   ],
   "source": [
    "xbar = df1['Skill Moves'].mean()\n",
    "ybar = df1['Overall_rating'].mean()\n",
    "s1 = df1['Skill Moves'].std()\n",
    "s2 = df1['Overall_rating'].std()\n",
    "n1 = len(df1['Skill Moves'])\n",
    "n2 = len(df1['Overall_rating'])\n",
    "zscore = (xbar-ybar)/np.sqrt((s1**2/n1)+(s2**2/n2))\n",
    "print('Zscore',zscore)\n",
    "sns.distplot(df1['Skill Moves'])\n",
    "sns.distplot(df1['Overall_rating'])\n",
    "print('Critical value')\n",
    "print(stats.norm.isf(0.05))\n",
    "print('P-value')\n",
    "print(stats.norm.cdf(zscore))"
   ]
  },
  {
   "cell_type": "code",
   "execution_count": null,
   "id": "8d901300",
   "metadata": {},
   "outputs": [],
   "source": [
    "# Inference:- There skill effecr has no effect in overall rating."
   ]
  },
  {
   "cell_type": "markdown",
   "id": "022d2dd2",
   "metadata": {},
   "source": [
    "### 2. Perform the following statistical analysis on the mobile network dataset given. The given data set contains information about the internet, calls, and messages of various network. Data Cleaning and basic EDA process needs to be performed.\n",
    "a) With 95% & 99% Confidence Interval, find the range estimate of average duration calls made by the entire network. Which of the Intervals are wider? Interpret the results.\n",
    "\n",
    "b) Perform statistical analysis to check whether the networks are equally distributed in the dataset.\n",
    "\n",
    "c) Plot the distribution of duration with respect to each network in the same graph and interpret the results from the graph.\n",
    "\n",
    "d) Perform statistical tests to identify the relation between item and duration. Detailed explanation of relation between the classes is required.\n",
    "\n",
    "e) Perform statistical tests to identify the relation between network and network_type. Note:\n",
    "\n",
    "1) Perform all the Statistical analysis with 5% (Significance level).\n",
    "\n",
    "2) Perform the test of normality and test of variance in the appropriate places."
   ]
  },
  {
   "cell_type": "code",
   "execution_count": 66,
   "id": "117f2770",
   "metadata": {},
   "outputs": [
    {
     "data": {
      "text/html": [
       "<div>\n",
       "<style scoped>\n",
       "    .dataframe tbody tr th:only-of-type {\n",
       "        vertical-align: middle;\n",
       "    }\n",
       "\n",
       "    .dataframe tbody tr th {\n",
       "        vertical-align: top;\n",
       "    }\n",
       "\n",
       "    .dataframe thead th {\n",
       "        text-align: right;\n",
       "    }\n",
       "</style>\n",
       "<table border=\"1\" class=\"dataframe\">\n",
       "  <thead>\n",
       "    <tr style=\"text-align: right;\">\n",
       "      <th></th>\n",
       "      <th>date</th>\n",
       "      <th>duration</th>\n",
       "      <th>item</th>\n",
       "      <th>month</th>\n",
       "      <th>network</th>\n",
       "      <th>network_type</th>\n",
       "    </tr>\n",
       "  </thead>\n",
       "  <tbody>\n",
       "    <tr>\n",
       "      <th>0</th>\n",
       "      <td>15-10-14 6:58</td>\n",
       "      <td>221.321120</td>\n",
       "      <td>data</td>\n",
       "      <td>2014-11</td>\n",
       "      <td>data</td>\n",
       "      <td>data</td>\n",
       "    </tr>\n",
       "    <tr>\n",
       "      <th>1</th>\n",
       "      <td>15-10-14 6:58</td>\n",
       "      <td>81.610599</td>\n",
       "      <td>call</td>\n",
       "      <td>2014-11</td>\n",
       "      <td>Vodafone</td>\n",
       "      <td>mobile</td>\n",
       "    </tr>\n",
       "    <tr>\n",
       "      <th>2</th>\n",
       "      <td>15-10-14 14:46</td>\n",
       "      <td>143.109111</td>\n",
       "      <td>call</td>\n",
       "      <td>2014-11</td>\n",
       "      <td>Meteor</td>\n",
       "      <td>mobile</td>\n",
       "    </tr>\n",
       "    <tr>\n",
       "      <th>3</th>\n",
       "      <td>15-10-14 14:48</td>\n",
       "      <td>111.888670</td>\n",
       "      <td>call</td>\n",
       "      <td>2014-11</td>\n",
       "      <td>Tesco</td>\n",
       "      <td>mobile</td>\n",
       "    </tr>\n",
       "    <tr>\n",
       "      <th>4</th>\n",
       "      <td>15-10-14 17:27</td>\n",
       "      <td>246.695171</td>\n",
       "      <td>call</td>\n",
       "      <td>2014-11</td>\n",
       "      <td>Tesco</td>\n",
       "      <td>mobile</td>\n",
       "    </tr>\n",
       "  </tbody>\n",
       "</table>\n",
       "</div>"
      ],
      "text/plain": [
       "             date    duration  item    month   network network_type\n",
       "0   15-10-14 6:58  221.321120  data  2014-11      data         data\n",
       "1   15-10-14 6:58   81.610599  call  2014-11  Vodafone       mobile\n",
       "2  15-10-14 14:46  143.109111  call  2014-11    Meteor       mobile\n",
       "3  15-10-14 14:48  111.888670  call  2014-11     Tesco       mobile\n",
       "4  15-10-14 17:27  246.695171  call  2014-11     Tesco       mobile"
      ]
     },
     "execution_count": 66,
     "metadata": {},
     "output_type": "execute_result"
    }
   ],
   "source": [
    "df1 = pd.read_csv('phone.csv')\n",
    "df1.head()"
   ]
  },
  {
   "cell_type": "code",
   "execution_count": 25,
   "id": "979a3b3e",
   "metadata": {},
   "outputs": [
    {
     "data": {
      "text/plain": [
       "(820, 6)"
      ]
     },
     "execution_count": 25,
     "metadata": {},
     "output_type": "execute_result"
    }
   ],
   "source": [
    "df1.shape"
   ]
  },
  {
   "cell_type": "code",
   "execution_count": 26,
   "id": "7bb3588e",
   "metadata": {},
   "outputs": [
    {
     "data": {
      "text/plain": [
       "0"
      ]
     },
     "execution_count": 26,
     "metadata": {},
     "output_type": "execute_result"
    }
   ],
   "source": [
    "df1.isnull().sum().sum()"
   ]
  },
  {
   "cell_type": "code",
   "execution_count": 27,
   "id": "600d7900",
   "metadata": {},
   "outputs": [
    {
     "name": "stdout",
     "output_type": "stream",
     "text": [
      "<class 'pandas.core.frame.DataFrame'>\n",
      "RangeIndex: 820 entries, 0 to 819\n",
      "Data columns (total 6 columns):\n",
      " #   Column        Non-Null Count  Dtype  \n",
      "---  ------        --------------  -----  \n",
      " 0   date          820 non-null    object \n",
      " 1   duration      820 non-null    float64\n",
      " 2   item          820 non-null    object \n",
      " 3   month         820 non-null    object \n",
      " 4   network       820 non-null    object \n",
      " 5   network_type  820 non-null    object \n",
      "dtypes: float64(1), object(5)\n",
      "memory usage: 38.6+ KB\n"
     ]
    }
   ],
   "source": [
    "df1.info()"
   ]
  },
  {
   "cell_type": "markdown",
   "id": "f1027b25",
   "metadata": {},
   "source": [
    "### a)With 95% & 99% Confidence Interval, find the range estimate of average duration calls made by the entire network. Which of the Intervals are wider? Interpret the results."
   ]
  },
  {
   "cell_type": "code",
   "execution_count": 28,
   "id": "2d3ad694",
   "metadata": {},
   "outputs": [
    {
     "data": {
      "text/plain": [
       "array(['data', 'Vodafone', 'Meteor', 'Tesco', 'Three', 'voicemail',\n",
       "       'landline'], dtype=object)"
      ]
     },
     "execution_count": 28,
     "metadata": {},
     "output_type": "execute_result"
    }
   ],
   "source": [
    "df1['network'].unique()"
   ]
  },
  {
   "cell_type": "code",
   "execution_count": 29,
   "id": "db865158",
   "metadata": {},
   "outputs": [],
   "source": [
    "n1 = df1[df1['network'] == 'data']['duration']\n",
    "n2 = df1[df1['network'] == 'Vodafone']['duration']\n",
    "n3 = df1[df1['network'] == 'Meteor']['duration']\n",
    "n4 = df1[df1['network'] == 'Tesco']['duration']\n",
    "n5 = df1[df1['network'] == 'Three']['duration']\n",
    "n6 = df1[df1['network'] == 'voicemail']['duration']\n",
    "n7 = df1[df1['network'] == 'landline']['duration']"
   ]
  },
  {
   "cell_type": "code",
   "execution_count": 30,
   "id": "a52bd087",
   "metadata": {},
   "outputs": [
    {
     "name": "stdout",
     "output_type": "stream",
     "text": [
      "ShapiroResult(statistic=0.9984679818153381, pvalue=0.701244592666626)\n",
      "LeveneResult(statistic=1.529736398828682, pvalue=0.1653481809327658)\n",
      "The P-value is more than 5%,Hence the data is normal and the variances are equal according to shapiro and levenes\n"
     ]
    }
   ],
   "source": [
    "print(stats.shapiro(df1['duration']))\n",
    "print(stats.levene(n1,n2,n3,n4,n5,n6,n7))\n",
    "print('The P-value is more than 5%,Hence the data is normal and the variances are equal according to shapiro and levenes')"
   ]
  },
  {
   "cell_type": "code",
   "execution_count": 31,
   "id": "ceb05dc5",
   "metadata": {},
   "outputs": [
    {
     "data": {
      "text/plain": [
       "<AxesSubplot:xlabel='duration', ylabel='Density'>"
      ]
     },
     "execution_count": 31,
     "metadata": {},
     "output_type": "execute_result"
    },
    {
     "data": {
      "image/png": "[encoded data removed]",
      "text/plain": [
       "<Figure size 432x288 with 1 Axes>"
      ]
     },
     "metadata": {
      "needs_background": "light"
     },
     "output_type": "display_data"
    }
   ],
   "source": [
    "sns.distplot(n1)\n",
    "sns.distplot(n2)\n",
    "sns.distplot(n3)\n",
    "sns.distplot(n4)\n",
    "sns.distplot(n5)\n",
    "sns.distplot(n6)\n",
    "sns.distplot(n7)"
   ]
  },
  {
   "cell_type": "code",
   "execution_count": 32,
   "id": "c5313c96",
   "metadata": {},
   "outputs": [
    {
     "data": {
      "text/plain": [
       "F_onewayResult(statistic=1.4036497792001215, pvalue=0.2102939953009413)"
      ]
     },
     "execution_count": 32,
     "metadata": {},
     "output_type": "execute_result"
    }
   ],
   "source": [
    "stats.f_oneway(n1,n2,n3,n4,n5,n6,n7)"
   ]
  },
  {
   "cell_type": "code",
   "execution_count": 33,
   "id": "8170ee4f",
   "metadata": {},
   "outputs": [
    {
     "data": {
      "text/plain": [
       "<AxesSubplot:xlabel='network'>"
      ]
     },
     "execution_count": 33,
     "metadata": {},
     "output_type": "execute_result"
    },
    {
     "data": {
      "image/png": "[encoded data removed]",
      "text/plain": [
       "<Figure size 432x288 with 1 Axes>"
      ]
     },
     "metadata": {
      "needs_background": "light"
     },
     "output_type": "display_data"
    }
   ],
   "source": [
    "df1.groupby('network')['duration'].mean().plot(kind='bar')"
   ]
  },
  {
   "cell_type": "markdown",
   "id": "cd153141",
   "metadata": {},
   "source": [
    "### b)Perform statistical analysis to check whether the networks are equally distributed in the dataset"
   ]
  },
  {
   "cell_type": "code",
   "execution_count": 68,
   "id": "55ed8f15",
   "metadata": {},
   "outputs": [
    {
     "data": {
      "text/plain": [
       "Vodafone     215\n",
       "Three        215\n",
       "data         150\n",
       "Meteor        87\n",
       "Tesco         84\n",
       "landline      42\n",
       "voicemail     27\n",
       "Name: network, dtype: int64"
      ]
     },
     "execution_count": 68,
     "metadata": {},
     "output_type": "execute_result"
    }
   ],
   "source": [
    "df1.network.value_counts()"
   ]
  },
  {
   "cell_type": "code",
   "execution_count": 73,
   "id": "591dbd4e",
   "metadata": {},
   "outputs": [
    {
     "data": {
      "text/plain": [
       "<AxesSubplot:xlabel='network', ylabel='Density'>"
      ]
     },
     "execution_count": 73,
     "metadata": {},
     "output_type": "execute_result"
    },
    {
     "data": {
      "image/png": "[encoded data removed]",
      "text/plain": [
       "<Figure size 432x288 with 1 Axes>"
      ]
     },
     "metadata": {
      "needs_background": "light"
     },
     "output_type": "display_data"
    }
   ],
   "source": [
    "sns.distplot(df1['network']=='Vodafone')\n",
    "sns.distplot(df1['network']=='Three')\n",
    "sns.distplot(df1['network']=='data')\n",
    "sns.distplot(df1['network']=='Meteor')\n",
    "sns.distplot(df1['network']=='Tesco')\n",
    "sns.distplot(df1['network']=='landline')\n",
    "sns.distplot(df1['network']=='voicemail')"
   ]
  },
  {
   "cell_type": "code",
   "execution_count": 75,
   "id": "5855bf10",
   "metadata": {},
   "outputs": [
    {
     "name": "stdout",
     "output_type": "stream",
     "text": [
      "ShapiroResult(statistic=0.5485159158706665, pvalue=1.8204268350043699e-41)\n",
      "ShapiroResult(statistic=0.5485159158706665, pvalue=1.8204268350043699e-41)\n",
      "ShapiroResult(statistic=0.4699505567550659, pvalue=8.267660939516421e-44)\n",
      "ShapiroResult(statistic=0.35377442836761475, pvalue=0.0)\n",
      "ShapiroResult(statistic=0.3468140959739685, pvalue=0.0)\n",
      "ShapiroResult(statistic=0.2273463010787964, pvalue=0.0)\n",
      "ShapiroResult(statistic=0.16953670978546143, pvalue=0.0)\n"
     ]
    }
   ],
   "source": [
    "print(stats.shapiro(df1['network']=='Vodafone'))\n",
    "print(stats.shapiro(df1['network']=='Three'))\n",
    "print(stats.shapiro(df1['network']=='data'))\n",
    "print(stats.shapiro(df1['network']=='Meteor'))\n",
    "print(stats.shapiro(df1['network']=='Tesco'))\n",
    "print(stats.shapiro(df1['network']=='landline'))\n",
    "print(stats.shapiro(df1['network']=='voicemail'))"
   ]
  },
  {
   "cell_type": "markdown",
   "id": "e4599a1e",
   "metadata": {},
   "source": [
    "### c) Plot the distribution of duration with respect to each network in the same graph and interpret the results from the graph"
   ]
  },
  {
   "cell_type": "code",
   "execution_count": 34,
   "id": "e9d6c32f",
   "metadata": {},
   "outputs": [
    {
     "name": "stdout",
     "output_type": "stream",
     "text": [
      "ShapiroResult(statistic=0.9984679818153381, pvalue=0.701244592666626)\n",
      "LeveneResult(statistic=1.529736398828682, pvalue=0.1653481809327658)\n",
      "The P-value is more than 5%,Hence the data is normal and the variances are equal according to shapiro and levenes\n"
     ]
    },
    {
     "data": {
      "image/png": "[encoded data removed]",
      "text/plain": [
       "<Figure size 432x288 with 1 Axes>"
      ]
     },
     "metadata": {
      "needs_background": "light"
     },
     "output_type": "display_data"
    }
   ],
   "source": [
    "n1 = df1[df1['network'] == 'data']['duration']\n",
    "n2 = df1[df1['network'] == 'Vodafone']['duration']\n",
    "n3 = df1[df1['network'] == 'Meteor']['duration']\n",
    "n4 = df1[df1['network'] == 'Tesco']['duration']\n",
    "n5 = df1[df1['network'] == 'Three']['duration']\n",
    "n6 = df1[df1['network'] == 'voicemail']['duration']\n",
    "n7 = df1[df1['network'] == 'landline']['duration']\n",
    "sns.distplot(n1)\n",
    "sns.distplot(n2)\n",
    "sns.distplot(n3)\n",
    "sns.distplot(n4)\n",
    "sns.distplot(n5)\n",
    "sns.distplot(n6)\n",
    "sns.distplot(n7)\n",
    "print(stats.shapiro(df1['duration']))\n",
    "print(stats.levene(n1,n2,n3,n4,n5,n6,n7))\n",
    "print('The P-value is more than 5%,Hence the data is normal and the variances are equal according to shapiro and levenes')"
   ]
  },
  {
   "cell_type": "code",
   "execution_count": 35,
   "id": "ff5a4a7a",
   "metadata": {},
   "outputs": [
    {
     "name": "stdout",
     "output_type": "stream",
     "text": [
      "Critical value\n",
      "2.1097142075162147\n"
     ]
    }
   ],
   "source": [
    "N = df1['duration'].value_counts().sum()\n",
    "t = df1['network'].nunique()\n",
    "print('Critical value')\n",
    "print(stats.f.isf(0.05,dfn=6,dfd=N-t))"
   ]
  },
  {
   "cell_type": "code",
   "execution_count": 36,
   "id": "16ae05e2",
   "metadata": {},
   "outputs": [
    {
     "name": "stdout",
     "output_type": "stream",
     "text": [
      "F_onewayResult(statistic=1.4036497792001215, pvalue=0.2102939953009413)\n",
      "p-value is greater than 5%,Hence Failed to Reject Null and conclude that all the networks are having same duration\n"
     ]
    }
   ],
   "source": [
    "print(stats.f_oneway(n1,n2,n3,n4,n5,n6,n7))\n",
    "print('p-value is greater than 5%,Hence Failed to Reject Null and conclude that all the networks are having same duration')"
   ]
  },
  {
   "cell_type": "markdown",
   "id": "a3a18229",
   "metadata": {},
   "source": [
    "### d)\tPerform statistical tests to identify the relation between item and duration. Detailed explanation of relation between the classes is required."
   ]
  },
  {
   "cell_type": "code",
   "execution_count": 49,
   "id": "aeff0e43",
   "metadata": {},
   "outputs": [
    {
     "data": {
      "text/plain": [
       "3"
      ]
     },
     "execution_count": 49,
     "metadata": {},
     "output_type": "execute_result"
    }
   ],
   "source": [
    "t1 = df1['item'].unique()\n",
    "t = len(t1)\n",
    "t"
   ]
  },
  {
   "cell_type": "code",
   "execution_count": 45,
   "id": "345e75fb",
   "metadata": {},
   "outputs": [
    {
     "data": {
      "text/plain": [
       "820"
      ]
     },
     "execution_count": 45,
     "metadata": {},
     "output_type": "execute_result"
    }
   ],
   "source": [
    "df1['duration'].nunique()"
   ]
  },
  {
   "cell_type": "code",
   "execution_count": 39,
   "id": "a847a18d",
   "metadata": {},
   "outputs": [
    {
     "name": "stdout",
     "output_type": "stream",
     "text": [
      "ShapiroResult(statistic=0.9912639856338501, pvalue=0.48521795868873596)\n",
      "ShapiroResult(statistic=0.9973042011260986, pvalue=0.7803382277488708)\n",
      "ShapiroResult(statistic=0.9943404197692871, pvalue=0.37839275598526)\n",
      "LeveneResult(statistic=3.4300976447008478, pvalue=0.03285087780533987)\n"
     ]
    },
    {
     "data": {
      "text/plain": [
       "<AxesSubplot:xlabel='duration', ylabel='Density'>"
      ]
     },
     "execution_count": 39,
     "metadata": {},
     "output_type": "execute_result"
    },
    {
     "data": {
      "image/png": "[encoded data removed]",
      "text/plain": [
       "<Figure size 432x288 with 1 Axes>"
      ]
     },
     "metadata": {
      "needs_background": "light"
     },
     "output_type": "display_data"
    }
   ],
   "source": [
    "i1 = df1[df1['item'] == 'data']['duration']\n",
    "i2 = df1[df1['item'] == 'call']['duration']\n",
    "i3 = df1[df1['item'] == 'sms']['duration']\n",
    "print(stats.shapiro(i1))\n",
    "print(stats.shapiro(i2))\n",
    "print(stats.shapiro(i3))\n",
    "print(stats.levene(i1,i2,i3))\n",
    "sns.distplot(i1)\n",
    "sns.distplot(i2)\n",
    "sns.distplot(i3)"
   ]
  },
  {
   "cell_type": "code",
   "execution_count": 51,
   "id": "7afd9255",
   "metadata": {},
   "outputs": [
    {
     "name": "stdout",
     "output_type": "stream",
     "text": [
      "Critical value\n",
      "3.0067437669029107\n",
      "F_onewayResult(statistic=1.9313964906864995, pvalue=0.1456068656611744)\n",
      "P-value is more than 5%,Hence Faied to Reject Null and conclude that they both have good relation\n"
     ]
    }
   ],
   "source": [
    "print('Critical value')\n",
    "print(stats.f.isf(0.05,dfn=2,dfd=N-t))\n",
    "print(stats.f_oneway(i1,i2,i3))\n",
    "print('P-value is more than 5%,Hence Faied to Reject Null and conclude that they both have good relation')"
   ]
  },
  {
   "cell_type": "markdown",
   "id": "50d0066e",
   "metadata": {},
   "source": [
    "### e)Perform statistical tests to identify the relation between network and network_type."
   ]
  },
  {
   "cell_type": "code",
   "execution_count": 54,
   "id": "abc36ed8",
   "metadata": {},
   "outputs": [
    {
     "data": {
      "text/plain": [
       "array([[  0,   0,  87,   0],\n",
       "       [  0,   0,  84,   0],\n",
       "       [  0,   0, 215,   0],\n",
       "       [  0,   0, 215,   0],\n",
       "       [150,   0,   0,   0],\n",
       "       [  0,  42,   0,   0],\n",
       "       [  0,   0,   0,  27]], dtype=int64)"
      ]
     },
     "execution_count": 54,
     "metadata": {},
     "output_type": "execute_result"
    }
   ],
   "source": [
    "l1 = pd.crosstab(df1['network'],df1['network_type'])\n",
    "observed_value = l1.values\n",
    "observed_value"
   ]
  },
  {
   "cell_type": "code",
   "execution_count": 58,
   "id": "c1cafe30",
   "metadata": {},
   "outputs": [
    {
     "name": "stdout",
     "output_type": "stream",
     "text": [
      "Critical value\n",
      "Test statistic: 2460.0\n",
      "p-value: 0.0\n",
      "Degrees of freedom: 18\n",
      "Expected values: [[ 15.91463415   4.45609756  63.76463415   2.86463415]\n",
      " [ 15.36585366   4.30243902  61.56585366   2.76585366]\n",
      " [ 39.32926829  11.01219512 157.57926829   7.07926829]\n",
      " [ 39.32926829  11.01219512 157.57926829   7.07926829]\n",
      " [ 27.43902439   7.68292683 109.93902439   4.93902439]\n",
      " [  7.68292683   2.15121951  30.78292683   1.38292683]\n",
      " [  4.93902439   1.38292683  19.78902439   0.88902439]]\n"
     ]
    }
   ],
   "source": [
    "print('Critical value')\n",
    "stats.chi2.isf(0.05,df=18)\n",
    "stats.chisquare(observed_value)\n",
    "\n",
    "test_stat, p, dof, expected_value = chi2_contingency(observed = observed_value)\n",
    "\n",
    "print(\"Test statistic:\", test_stat)\n",
    "print(\"p-value:\", p)\n",
    "print(\"Degrees of freedom:\", dof)\n",
    "print(\"Expected values:\", expected_value)"
   ]
  },
  {
   "cell_type": "code",
   "execution_count": null,
   "id": "9006fd84",
   "metadata": {},
   "outputs": [],
   "source": []
  }
 ],
 "metadata": {
  "kernelspec": {
   "display_name": "Python 3",
   "language": "python",
   "name": "python3"
  },
  "language_info": {
   "codemirror_mode": {
    "name": "ipython",
    "version": 3
   },
   "file_extension": ".py",
   "mimetype": "text/x-python",
   "name": "python",
   "nbconvert_exporter": "python",
   "pygments_lexer": "ipython3",
   "version": "3.8.8"
  }
 },
 "nbformat": 4,
 "nbformat_minor": 5
}
